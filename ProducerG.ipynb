{
 "cells": [
  {
   "cell_type": "code",
   "execution_count": 17,
   "id": "904e4d5c",
   "metadata": {},
   "outputs": [],
   "source": [
    "import tweepy\n",
    "from kafka import KafkaProducer\n",
    "import logging"
   ]
  },
  {
   "cell_type": "code",
   "execution_count": 18,
   "id": "1fa3ebc8",
   "metadata": {},
   "outputs": [],
   "source": [
    "consumerKey = 'pQg0kPJU9g0h3rG8TsUV97rrY'\n",
    "consumerSecret = 'pcjYZNKn7a1jcjGIuZ03REP6mXkQefWtlW3SPOhp13jv19u0yl'\n",
    "accessToken = '1377628522718638088-VYoYsCJgIaqD5bcxQSGqpd9yhNkj5U'\n",
    "accessTokenSecret = 'bT9zOqLEPJSNiCC2Hp38tioMVOqyySDkhzly7a8BKmMCY'"
   ]
  },
  {
   "cell_type": "code",
   "execution_count": 19,
   "id": "6d138382",
   "metadata": {},
   "outputs": [],
   "source": [
    "producer = KafkaProducer(bootstrap_servers='localhost:9092')\n",
    "search_term = 'Chirine'\n",
    "topic_name = 'skype'"
   ]
  },
  {
   "cell_type": "code",
   "execution_count": 20,
   "id": "a9160740",
   "metadata": {},
   "outputs": [],
   "source": [
    "def twitterAuth():\n",
    "    # create the authentication object\n",
    "    authenticate = tweepy.OAuthHandler(consumerKey, consumerSecret)\n",
    "    # set the access token and the access token secret\n",
    "    authenticate.set_access_token(accessToken, accessTokenSecret)\n",
    "    # create the API object\n",
    "    api = tweepy.API(authenticate, wait_on_rate_limit=True)\n",
    "    return api"
   ]
  },
  {
   "cell_type": "code",
   "execution_count": 21,
   "id": "040c030f",
   "metadata": {},
   "outputs": [],
   "source": [
    "class TweetListener(tweepy.Stream):\n",
    "\n",
    "    def on_data(self, raw_data):\n",
    "        logging.info(raw_data)\n",
    "        producer.send(topic_name, value=raw_data)\n",
    "        return True\n",
    "\n",
    "    def on_error(self, status_code):\n",
    "        if status_code == 420:\n",
    "            # returning False in on_data disconnects the stream\n",
    "            return False\n",
    "\n",
    "    def start_streaming_tweets(self, search_term):\n",
    "        self.filter(track=search_term, stall_warnings=True, languages=[\"en\"])"
   ]
  },
  {
   "cell_type": "code",
   "execution_count": 23,
   "id": "95213bdb",
   "metadata": {},
   "outputs": [
    {
     "ename": "TypeError",
     "evalue": "__init__() takes 3 positional arguments but 4 were given",
     "output_type": "error",
     "traceback": [
      "\u001b[1;31m---------------------------------------------------------------------------\u001b[0m",
      "\u001b[1;31mTypeError\u001b[0m                                 Traceback (most recent call last)",
      "\u001b[1;32m~\\AppData\\Local\\Temp/ipykernel_4568/198809025.py\u001b[0m in \u001b[0;36m<module>\u001b[1;34m\u001b[0m\n\u001b[0;32m      1\u001b[0m \u001b[1;32mif\u001b[0m \u001b[0m__name__\u001b[0m \u001b[1;33m==\u001b[0m \u001b[1;34m'__main__'\u001b[0m\u001b[1;33m:\u001b[0m\u001b[1;33m\u001b[0m\u001b[1;33m\u001b[0m\u001b[0m\n\u001b[1;32m----> 2\u001b[1;33m     \u001b[0mtwitter_stream\u001b[0m \u001b[1;33m=\u001b[0m \u001b[0mTweetListener\u001b[0m\u001b[1;33m(\u001b[0m\u001b[0mconsumerKey\u001b[0m\u001b[1;33m,\u001b[0m \u001b[0mconsumerSecret\u001b[0m\u001b[1;33m,\u001b[0m \u001b[0maccessToken\u001b[0m\u001b[1;33m)\u001b[0m\u001b[1;33m\u001b[0m\u001b[1;33m\u001b[0m\u001b[0m\n\u001b[0m\u001b[0;32m      3\u001b[0m     \u001b[0mtwitter_stream\u001b[0m\u001b[1;33m.\u001b[0m\u001b[0mstart_streaming_tweets\u001b[0m\u001b[1;33m(\u001b[0m\u001b[0msearch_term\u001b[0m\u001b[1;33m)\u001b[0m\u001b[1;33m\u001b[0m\u001b[1;33m\u001b[0m\u001b[0m\n\u001b[0;32m      4\u001b[0m     \u001b[1;31m# create the streaming object\u001b[0m\u001b[1;33m\u001b[0m\u001b[1;33m\u001b[0m\u001b[0m\n\u001b[0;32m      5\u001b[0m     \u001b[1;31m#api = twitterAuth() ['#python']\u001b[0m\u001b[1;33m\u001b[0m\u001b[1;33m\u001b[0m\u001b[0m\n",
      "\u001b[1;31mTypeError\u001b[0m: __init__() takes 3 positional arguments but 4 were given"
     ]
    }
   ],
   "source": [
    "if __name__ == '__main__':\n",
    "    twitter_stream = TweetListener(consumerKey, consumerSecret, accessToken, accessTokenSecret)\n",
    "    twitter_stream.start_streaming_tweets(search_term)\n",
    "    # create the streaming object\n",
    "    #api = twitterAuth() ['#python']"
   ]
  },
  {
   "cell_type": "code",
   "execution_count": null,
   "id": "19a9a090",
   "metadata": {},
   "outputs": [],
   "source": []
  }
 ],
 "metadata": {
  "kernelspec": {
   "display_name": "Python 3 (ipykernel)",
   "language": "python",
   "name": "python3"
  },
  "language_info": {
   "codemirror_mode": {
    "name": "ipython",
    "version": 3
   },
   "file_extension": ".py",
   "mimetype": "text/x-python",
   "name": "python",
   "nbconvert_exporter": "python",
   "pygments_lexer": "ipython3",
   "version": "3.9.7"
  }
 },
 "nbformat": 4,
 "nbformat_minor": 5
}
